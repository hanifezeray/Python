{
  "nbformat": 4,
  "nbformat_minor": 0,
  "metadata": {
    "colab": {
      "provenance": []
    },
    "kernelspec": {
      "name": "python3",
      "display_name": "Python 3"
    },
    "language_info": {
      "name": "python"
    }
  },
  "cells": [
    {
      "cell_type": "code",
      "execution_count": null,
      "metadata": {
        "id": "3HXlOfKRWYQg"
      },
      "outputs": [],
      "source": [
        "###  This program converts milliseconds into hours, minutes, and seconds ###\n",
        "\n",
        "while True:\n",
        " num = input(\"Please enter the milliseconds (should be greater than zero) : \")\n",
        " \n",
        " if num.lower() == 'exit':\n",
        "        print('Exiting the program... Good Bye')\n",
        "        break\n",
        "\n",
        " try:\n",
        "        num = int(num)\n",
        "        if num < 1:\n",
        "            print('Not Valid Input !!!')\n",
        "            continue\n",
        " except ValueError:\n",
        "        print('Not Valid Input !!!')\n",
        "        continue\n",
        "\n",
        " hours = num//3600000\n",
        " num = num%3600000\n",
        " minutes = num//60000\n",
        " num = num%60000\n",
        " seconds = num//1000\n",
        " milliseconds = num%1000\n",
        "\n",
        "\n",
        " result = \"\"\n",
        " if hours > 0:\n",
        "        result += str(hours) + \" hour/s \"\n",
        " if minutes > 0:\n",
        "        result += str(minutes) + \" minute/s \"\n",
        " if seconds > 0:\n",
        "        result += str(seconds) + \" second/s \"\n",
        " if milliseconds > 0 and (hours == 0 and minutes == 0 and seconds == 0):\n",
        "        result += str(num) + \" millisecond/s\"\n",
        "\n",
        " print(result)\n",
        " break"
      ]
    }
  ]
}